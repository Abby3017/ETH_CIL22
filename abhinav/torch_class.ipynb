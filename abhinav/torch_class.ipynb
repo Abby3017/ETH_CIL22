{
 "cells": [
  {
   "cell_type": "code",
   "execution_count": 1,
   "metadata": {},
   "outputs": [
    {
     "name": "stderr",
     "output_type": "stream",
     "text": [
      "/Users/abhinavkumar/prj/ml/.ds/lib/python3.9/site-packages/tqdm/auto.py:22: TqdmWarning: IProgress not found. Please update jupyter and ipywidgets. See https://ipywidgets.readthedocs.io/en/stable/user_install.html\n",
      "  from .autonotebook import tqdm as notebook_tqdm\n"
     ]
    }
   ],
   "source": [
    "import torch\n",
    "import numpy as np"
   ]
  },
  {
   "cell_type": "code",
   "execution_count": 3,
   "metadata": {},
   "outputs": [],
   "source": [
    "data_pos = []\n",
    "data_neg = []\n",
    "with open(\"./../train_pos.txt\") as f:\n",
    "    for i in f: \n",
    "        t = i.replace('<user>', '')\n",
    "        t1 = t.replace('<url>', '')\n",
    "        data_pos.append((1, t1))\n",
    "\n",
    "with open(\"./../train_neg.txt\") as f:\n",
    "    for i in f:\n",
    "        t = i.replace('<user>', '')\n",
    "        t1 = t.replace('<url>', '')\n",
    "        data_neg.append((0, t1))"
   ]
  },
  {
   "cell_type": "code",
   "execution_count": 4,
   "metadata": {},
   "outputs": [],
   "source": [
    "data = data_pos + data_neg"
   ]
  },
  {
   "cell_type": "code",
   "execution_count": 9,
   "metadata": {},
   "outputs": [
    {
     "name": "stdout",
     "output_type": "stream",
     "text": [
      "(200000, 2)\n"
     ]
    }
   ],
   "source": [
    "N = len(data)\n",
    "np_data = np.array(data)\n",
    "print(np_data.shape)\n",
    "# np_data_labels = np.array(data_labels)\n",
    "np.random.seed(20)\n",
    "shuffler = np.random.permutation(N)\n",
    "Ntrain = 150000\n"
   ]
  },
  {
   "cell_type": "code",
   "execution_count": 10,
   "metadata": {},
   "outputs": [],
   "source": [
    "X_train = np_data[shuffler[:Ntrain]]\n",
    "# y_train = np_data_labels[shuffler[:Ntrain]]\n",
    "X_test = np_data[shuffler[Ntrain:]]\n",
    "# y_test = np_data_labels[shuffler[Ntrain:]]"
   ]
  },
  {
   "cell_type": "code",
   "execution_count": 11,
   "metadata": {},
   "outputs": [],
   "source": [
    "from torchtext.data.utils import get_tokenizer\n",
    "from torchtext.vocab import build_vocab_from_iterator\n",
    "\n",
    "tokenizer = get_tokenizer('basic_english')\n",
    "train_iter = iter(X_train)\n",
    "\n",
    "def yield_tokens(data_iter):\n",
    "    for _, text in data_iter:\n",
    "        yield tokenizer(text)\n",
    "\n",
    "vocab = build_vocab_from_iterator(yield_tokens(train_iter), specials=[\"<unk>\"])\n",
    "vocab.set_default_index(vocab[\"<unk>\"])"
   ]
  },
  {
   "cell_type": "code",
   "execution_count": 12,
   "metadata": {},
   "outputs": [
    {
     "data": {
      "text/plain": [
       "[124, 17, 102, 3681]"
      ]
     },
     "execution_count": 12,
     "metadata": {},
     "output_type": "execute_result"
    }
   ],
   "source": [
    "vocab(['here', 'is', 'an', 'example'])"
   ]
  },
  {
   "cell_type": "code",
   "execution_count": 13,
   "metadata": {},
   "outputs": [],
   "source": [
    "text_pipeline = lambda x: vocab(tokenizer(x))\n",
    "label_pipeline = lambda x: int(x)"
   ]
  },
  {
   "cell_type": "code",
   "execution_count": 15,
   "metadata": {},
   "outputs": [],
   "source": [
    "from torch.utils.data import DataLoader\n",
    "device = torch.device(\"cuda\" if torch.cuda.is_available() else \"cpu\")\n",
    "\n",
    "def collate_batch(batch):\n",
    "    label_list, text_list, offsets = [], [], [0]\n",
    "    for (_label, _text) in batch:\n",
    "         label_list.append(label_pipeline(_label))\n",
    "         processed_text = torch.tensor(text_pipeline(_text), dtype=torch.int64)\n",
    "         text_list.append(processed_text)\n",
    "         offsets.append(processed_text.size(0))\n",
    "    label_list = torch.tensor(label_list, dtype=torch.int64)\n",
    "    offsets = torch.tensor(offsets[:-1]).cumsum(dim=0)\n",
    "    text_list = torch.cat(text_list)\n",
    "    return label_list.to(device), text_list.to(device), offsets.to(device)\n",
    "\n",
    "train_iter = iter(X_train)\n",
    "dataloader = DataLoader(train_iter, batch_size=8, shuffle=False, collate_fn=collate_batch)"
   ]
  },
  {
   "cell_type": "code",
   "execution_count": 16,
   "metadata": {},
   "outputs": [],
   "source": [
    "from torch import nn\n",
    "\n",
    "class TextClassificationModel(nn.Module):\n",
    "\n",
    "    def __init__(self, vocab_size, embed_dim, num_class):\n",
    "        super(TextClassificationModel, self).__init__()\n",
    "        self.embedding = nn.EmbeddingBag(vocab_size, embed_dim, sparse=True)\n",
    "        self.fc = nn.Linear(embed_dim, num_class)\n",
    "        self.init_weights()\n",
    "\n",
    "    def init_weights(self):\n",
    "        initrange = 0.5\n",
    "        self.embedding.weight.data.uniform_(-initrange, initrange)\n",
    "        self.fc.weight.data.uniform_(-initrange, initrange)\n",
    "        self.fc.bias.data.zero_()\n",
    "\n",
    "    def forward(self, text, offsets):\n",
    "        embedded = self.embedding(text, offsets)\n",
    "        return self.fc(embedded)"
   ]
  },
  {
   "cell_type": "code",
   "execution_count": 17,
   "metadata": {},
   "outputs": [],
   "source": [
    "train_iter = iter(X_train)\n",
    "num_class = 2\n",
    "vocab_size = len(vocab)\n",
    "emsize = 64\n",
    "model = TextClassificationModel(vocab_size, emsize, num_class).to(device)"
   ]
  },
  {
   "cell_type": "code",
   "execution_count": 18,
   "metadata": {},
   "outputs": [],
   "source": [
    "import time\n",
    "\n",
    "def train(dataloader):\n",
    "    model.train()\n",
    "    total_acc, total_count = 0, 0\n",
    "    log_interval = 500\n",
    "    start_time = time.time()\n",
    "\n",
    "    for idx, (label, text, offsets) in enumerate(dataloader):\n",
    "        optimizer.zero_grad()\n",
    "        predicted_label = model(text, offsets)\n",
    "        loss = criterion(predicted_label, label)\n",
    "        loss.backward()\n",
    "        torch.nn.utils.clip_grad_norm_(model.parameters(), 0.1)\n",
    "        optimizer.step()\n",
    "        total_acc += (predicted_label.argmax(1) == label).sum().item()\n",
    "        total_count += label.size(0)\n",
    "        if idx % log_interval == 0 and idx > 0:\n",
    "            elapsed = time.time() - start_time\n",
    "            print('| epoch {:3d} | {:5d}/{:5d} batches '\n",
    "                  '| accuracy {:8.3f}'.format(epoch, idx, len(dataloader),\n",
    "                                              total_acc/total_count))\n",
    "            total_acc, total_count = 0, 0\n",
    "            start_time = time.time()\n",
    "\n",
    "def evaluate(dataloader):\n",
    "    model.eval()\n",
    "    total_acc, total_count = 0, 0\n",
    "\n",
    "    with torch.no_grad():\n",
    "        for idx, (label, text, offsets) in enumerate(dataloader):\n",
    "            predicted_label = model(text, offsets)\n",
    "            loss = criterion(predicted_label, label)\n",
    "            total_acc += (predicted_label.argmax(1) == label).sum().item()\n",
    "            total_count += label.size(0)\n",
    "    return total_acc/total_count"
   ]
  },
  {
   "cell_type": "code",
   "execution_count": 19,
   "metadata": {},
   "outputs": [
    {
     "name": "stdout",
     "output_type": "stream",
     "text": [
      "| epoch   1 |   500/ 2227 batches | accuracy    0.732\n",
      "| epoch   1 |  1000/ 2227 batches | accuracy    0.776\n",
      "| epoch   1 |  1500/ 2227 batches | accuracy    0.787\n",
      "| epoch   1 |  2000/ 2227 batches | accuracy    0.791\n",
      "-----------------------------------------------------------\n",
      "| end of epoch   1 | time:  9.97s | valid accuracy    0.791 \n",
      "-----------------------------------------------------------\n",
      "| epoch   2 |   500/ 2227 batches | accuracy    0.805\n",
      "| epoch   2 |  1000/ 2227 batches | accuracy    0.807\n",
      "| epoch   2 |  1500/ 2227 batches | accuracy    0.805\n",
      "| epoch   2 |  2000/ 2227 batches | accuracy    0.807\n",
      "-----------------------------------------------------------\n",
      "| end of epoch   2 | time:  8.46s | valid accuracy    0.802 \n",
      "-----------------------------------------------------------\n",
      "| epoch   3 |   500/ 2227 batches | accuracy    0.817\n",
      "| epoch   3 |  1000/ 2227 batches | accuracy    0.816\n",
      "| epoch   3 |  1500/ 2227 batches | accuracy    0.817\n",
      "| epoch   3 |  2000/ 2227 batches | accuracy    0.820\n",
      "-----------------------------------------------------------\n",
      "| end of epoch   3 | time:  8.41s | valid accuracy    0.804 \n",
      "-----------------------------------------------------------\n",
      "| epoch   4 |   500/ 2227 batches | accuracy    0.823\n",
      "| epoch   4 |  1000/ 2227 batches | accuracy    0.821\n",
      "| epoch   4 |  1500/ 2227 batches | accuracy    0.821\n",
      "| epoch   4 |  2000/ 2227 batches | accuracy    0.824\n",
      "-----------------------------------------------------------\n",
      "| end of epoch   4 | time:  8.48s | valid accuracy    0.798 \n",
      "-----------------------------------------------------------\n",
      "| epoch   5 |   500/ 2227 batches | accuracy    0.837\n",
      "| epoch   5 |  1000/ 2227 batches | accuracy    0.837\n",
      "| epoch   5 |  1500/ 2227 batches | accuracy    0.840\n",
      "| epoch   5 |  2000/ 2227 batches | accuracy    0.842\n",
      "-----------------------------------------------------------\n",
      "| end of epoch   5 | time:  9.18s | valid accuracy    0.811 \n",
      "-----------------------------------------------------------\n",
      "| epoch   6 |   500/ 2227 batches | accuracy    0.843\n",
      "| epoch   6 |  1000/ 2227 batches | accuracy    0.843\n",
      "| epoch   6 |  1500/ 2227 batches | accuracy    0.842\n",
      "| epoch   6 |  2000/ 2227 batches | accuracy    0.841\n",
      "-----------------------------------------------------------\n",
      "| end of epoch   6 | time:  9.68s | valid accuracy    0.815 \n",
      "-----------------------------------------------------------\n",
      "| epoch   7 |   500/ 2227 batches | accuracy    0.843\n",
      "| epoch   7 |  1000/ 2227 batches | accuracy    0.842\n",
      "| epoch   7 |  1500/ 2227 batches | accuracy    0.844\n",
      "| epoch   7 |  2000/ 2227 batches | accuracy    0.842\n",
      "-----------------------------------------------------------\n",
      "| end of epoch   7 | time:  9.44s | valid accuracy    0.815 \n",
      "-----------------------------------------------------------\n",
      "| epoch   8 |   500/ 2227 batches | accuracy    0.846\n",
      "| epoch   8 |  1000/ 2227 batches | accuracy    0.845\n",
      "| epoch   8 |  1500/ 2227 batches | accuracy    0.846\n",
      "| epoch   8 |  2000/ 2227 batches | accuracy    0.842\n",
      "-----------------------------------------------------------\n",
      "| end of epoch   8 | time:  8.73s | valid accuracy    0.814 \n",
      "-----------------------------------------------------------\n",
      "| epoch   9 |   500/ 2227 batches | accuracy    0.842\n",
      "| epoch   9 |  1000/ 2227 batches | accuracy    0.848\n",
      "| epoch   9 |  1500/ 2227 batches | accuracy    0.845\n",
      "| epoch   9 |  2000/ 2227 batches | accuracy    0.845\n",
      "-----------------------------------------------------------\n",
      "| end of epoch   9 | time:  9.23s | valid accuracy    0.813 \n",
      "-----------------------------------------------------------\n",
      "| epoch  10 |   500/ 2227 batches | accuracy    0.843\n",
      "| epoch  10 |  1000/ 2227 batches | accuracy    0.848\n",
      "| epoch  10 |  1500/ 2227 batches | accuracy    0.845\n",
      "| epoch  10 |  2000/ 2227 batches | accuracy    0.842\n",
      "-----------------------------------------------------------\n",
      "| end of epoch  10 | time:  8.16s | valid accuracy    0.813 \n",
      "-----------------------------------------------------------\n"
     ]
    }
   ],
   "source": [
    "from torch.utils.data.dataset import random_split\n",
    "from torchtext.data.functional import to_map_style_dataset\n",
    "# Hyperparameters\n",
    "EPOCHS = 10 # epoch\n",
    "LR = 5  # learning rate\n",
    "BATCH_SIZE = 64 # batch size for training\n",
    "\n",
    "criterion = torch.nn.CrossEntropyLoss()\n",
    "optimizer = torch.optim.SGD(model.parameters(), lr=LR)\n",
    "scheduler = torch.optim.lr_scheduler.StepLR(optimizer, 1.0, gamma=0.1)\n",
    "total_accu = None\n",
    "train_iter, test_iter = iter(X_train), iter(X_test)\n",
    "train_dataset = to_map_style_dataset(train_iter)\n",
    "test_dataset = to_map_style_dataset(test_iter)\n",
    "num_train = int(len(train_dataset) * 0.95)\n",
    "split_train_, split_valid_ = \\\n",
    "    random_split(train_dataset, [num_train, len(train_dataset) - num_train])\n",
    "\n",
    "train_dataloader = DataLoader(split_train_, batch_size=BATCH_SIZE,\n",
    "                              shuffle=True, collate_fn=collate_batch)\n",
    "valid_dataloader = DataLoader(split_valid_, batch_size=BATCH_SIZE,\n",
    "                              shuffle=True, collate_fn=collate_batch)\n",
    "test_dataloader = DataLoader(test_dataset, batch_size=BATCH_SIZE,\n",
    "                             shuffle=True, collate_fn=collate_batch)\n",
    "\n",
    "for epoch in range(1, EPOCHS + 1):\n",
    "    epoch_start_time = time.time()\n",
    "    train(train_dataloader)\n",
    "    accu_val = evaluate(valid_dataloader)\n",
    "    if total_accu is not None and total_accu > accu_val:\n",
    "      scheduler.step()\n",
    "    else:\n",
    "       total_accu = accu_val\n",
    "    print('-' * 59)\n",
    "    print('| end of epoch {:3d} | time: {:5.2f}s | '\n",
    "          'valid accuracy {:8.3f} '.format(epoch,\n",
    "                                           time.time() - epoch_start_time,\n",
    "                                           accu_val))\n",
    "    print('-' * 59)"
   ]
  },
  {
   "cell_type": "code",
   "execution_count": 20,
   "metadata": {},
   "outputs": [
    {
     "name": "stdout",
     "output_type": "stream",
     "text": [
      "Checking the results of test dataset.\n",
      "test accuracy    0.818\n"
     ]
    }
   ],
   "source": [
    "print('Checking the results of test dataset.')\n",
    "accu_test = evaluate(test_dataloader)\n",
    "print('test accuracy {:8.3f}'.format(accu_test))"
   ]
  }
 ],
 "metadata": {
  "interpreter": {
   "hash": "27793e922fab33fd2cfd6a6744f5b47e0c7b0be2caae6a1a51b69aac0ce4aeec"
  },
  "kernelspec": {
   "display_name": "Python 3.9.7 ('.ds')",
   "language": "python",
   "name": "python3"
  },
  "language_info": {
   "codemirror_mode": {
    "name": "ipython",
    "version": 3
   },
   "file_extension": ".py",
   "mimetype": "text/x-python",
   "name": "python",
   "nbconvert_exporter": "python",
   "pygments_lexer": "ipython3",
   "version": "3.9.7"
  },
  "orig_nbformat": 4
 },
 "nbformat": 4,
 "nbformat_minor": 2
}
