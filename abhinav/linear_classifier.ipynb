{
 "cells": [
  {
   "cell_type": "code",
   "execution_count": 1,
   "metadata": {},
   "outputs": [],
   "source": [
    "from sklearn.feature_extraction.text import CountVectorizer\n",
    "import numpy as np\n",
    "import pandas as pd\n",
    "\n"
   ]
  },
  {
   "cell_type": "code",
   "execution_count": 2,
   "metadata": {},
   "outputs": [],
   "source": [
    "pos_data = []\n",
    "neg_data = []\n",
    "pos_data_labels = []\n",
    "neg_data_labels = []\n",
    "with open(\"./../train_pos.txt\") as f:\n",
    "    for i in f: \n",
    "        t = i.replace('<user>', '')\n",
    "        t1 = t.replace('<url>', '')\n",
    "        pos_data.append(t1)\n",
    "        pos_data_labels.append('pos')\n",
    "\n",
    "with open(\"./../train_neg.txt\") as f:\n",
    "    for i in f:\n",
    "        t = i.replace('<user>', '')\n",
    "        t1 = t.replace('<url>', '')\n",
    "        neg_data.append(t1)\n",
    "        neg_data_labels.append('neg')"
   ]
  },
  {
   "cell_type": "code",
   "execution_count": 4,
   "metadata": {},
   "outputs": [],
   "source": [
    "test_data = []\n",
    "\n",
    "with open(\"./../test_data.txt\") as f:\n",
    "    for i in f: \n",
    "        t = i.replace('<user>', '')\n",
    "        t1 = t.replace('<url>', '')\n",
    "        test_data.append(t1)\n",
    "        # data_labels.append('pos')"
   ]
  },
  {
   "cell_type": "code",
   "execution_count": 3,
   "metadata": {},
   "outputs": [],
   "source": [
    "data = pos_data + neg_data\n",
    "data_labels = pos_data_labels + neg_data_labels"
   ]
  },
  {
   "cell_type": "code",
   "execution_count": 4,
   "metadata": {},
   "outputs": [],
   "source": [
    "N = len(data)\n",
    "np_data = np.array(data)\n",
    "np_data_labels = np.array(data_labels)\n",
    "np.random.seed(20)\n",
    "shuffler = np.random.permutation(N)\n",
    "Ntrain = 50000\n",
    "data_shuffled = np_data[shuffler[:Ntrain]]\n",
    "data_label_shuffled = np_data_labels[shuffler[:Ntrain]]\n",
    "# Xtest = np_data[shuffler[Ntrain:Ntrain+50000]]\n",
    "# ytest = np_data_labels[shuffler[Ntrain:Ntrain+50000]]"
   ]
  },
  {
   "cell_type": "code",
   "execution_count": 5,
   "metadata": {},
   "outputs": [],
   "source": [
    "vectorizer = CountVectorizer(\n",
    "    analyzer = 'word',\n",
    "    lowercase = False,\n",
    ") # have to change this metrics for better result\n",
    "features = vectorizer.fit_transform(\n",
    "    data_shuffled\n",
    ")\n",
    "features_nd = features.toarray() # for easy usage\n"
   ]
  },
  {
   "cell_type": "code",
   "execution_count": 6,
   "metadata": {},
   "outputs": [
    {
     "name": "stdout",
     "output_type": "stream",
     "text": [
      "(50000, 44559)\n",
      "(50000,)\n"
     ]
    }
   ],
   "source": [
    "print(features_nd.shape)\n",
    "print(data_label_shuffled.shape)"
   ]
  },
  {
   "cell_type": "code",
   "execution_count": 7,
   "metadata": {},
   "outputs": [],
   "source": [
    "from sklearn.model_selection import train_test_split\n",
    "\n",
    "X_train, X_test, y_train, y_test  = train_test_split(\n",
    "        features_nd, \n",
    "        data_label_shuffled,\n",
    "        train_size=0.80, \n",
    "        random_state=1234)"
   ]
  },
  {
   "cell_type": "code",
   "execution_count": 8,
   "metadata": {},
   "outputs": [
    {
     "name": "stdout",
     "output_type": "stream",
     "text": [
      "(40000, 44559)\n"
     ]
    }
   ],
   "source": [
    "print(X_train.shape)"
   ]
  },
  {
   "cell_type": "markdown",
   "metadata": {},
   "source": [
    "### train with 40000 samples, randomise both data and data_labels find that code"
   ]
  },
  {
   "cell_type": "code",
   "execution_count": 9,
   "metadata": {},
   "outputs": [],
   "source": [
    "from sklearn.linear_model import LogisticRegression\n",
    "log_model = LogisticRegression()"
   ]
  },
  {
   "cell_type": "code",
   "execution_count": 10,
   "metadata": {},
   "outputs": [
    {
     "name": "stderr",
     "output_type": "stream",
     "text": [
      "/Users/abhinavkumar/prj/ml/.ds/lib/python3.9/site-packages/sklearn/linear_model/_logistic.py:814: ConvergenceWarning: lbfgs failed to converge (status=1):\n",
      "STOP: TOTAL NO. of ITERATIONS REACHED LIMIT.\n",
      "\n",
      "Increase the number of iterations (max_iter) or scale the data as shown in:\n",
      "    https://scikit-learn.org/stable/modules/preprocessing.html\n",
      "Please also refer to the documentation for alternative solver options:\n",
      "    https://scikit-learn.org/stable/modules/linear_model.html#logistic-regression\n",
      "  n_iter_i = _check_optimize_result(\n"
     ]
    }
   ],
   "source": [
    "log_model = log_model.fit(X=X_train, y=y_train)\n"
   ]
  },
  {
   "cell_type": "code",
   "execution_count": 11,
   "metadata": {},
   "outputs": [],
   "source": [
    "y_pred = log_model.predict(X_test)"
   ]
  },
  {
   "cell_type": "code",
   "execution_count": 12,
   "metadata": {},
   "outputs": [
    {
     "name": "stdout",
     "output_type": "stream",
     "text": [
      "['neg' 'pos' 'pos' 'neg' 'pos' 'neg' 'pos' 'pos' 'pos' 'pos']\n"
     ]
    }
   ],
   "source": [
    "print(y_pred[:10])"
   ]
  },
  {
   "cell_type": "code",
   "execution_count": 13,
   "metadata": {},
   "outputs": [
    {
     "name": "stdout",
     "output_type": "stream",
     "text": [
      "0.7906\n"
     ]
    }
   ],
   "source": [
    "from sklearn.metrics import accuracy_score\n",
    "print(accuracy_score(y_test, y_pred))"
   ]
  }
 ],
 "metadata": {
  "interpreter": {
   "hash": "27793e922fab33fd2cfd6a6744f5b47e0c7b0be2caae6a1a51b69aac0ce4aeec"
  },
  "kernelspec": {
   "display_name": "Python 3.9.7 ('.ds')",
   "language": "python",
   "name": "python3"
  },
  "language_info": {
   "codemirror_mode": {
    "name": "ipython",
    "version": 3
   },
   "file_extension": ".py",
   "mimetype": "text/x-python",
   "name": "python",
   "nbconvert_exporter": "python",
   "pygments_lexer": "ipython3",
   "version": "3.9.7"
  },
  "orig_nbformat": 4
 },
 "nbformat": 4,
 "nbformat_minor": 2
}
