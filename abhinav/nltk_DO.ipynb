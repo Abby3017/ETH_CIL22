{
 "cells": [
  {
   "cell_type": "code",
   "execution_count": 1,
   "metadata": {},
   "outputs": [],
   "source": [
    "import nltk\n",
    "import pandas as pd\n",
    "import numpy as np"
   ]
  },
  {
   "cell_type": "code",
   "execution_count": 2,
   "metadata": {},
   "outputs": [],
   "source": [
    "data_pos = []\n",
    "data_neg = []\n",
    "with open(\"./../train_pos.txt\") as f:\n",
    "    for i in f: \n",
    "        t = i.replace('<user>', '')\n",
    "        t1 = t.replace('<url>', '')\n",
    "        data_pos.append(t1)\n",
    "\n",
    "with open(\"./../train_neg.txt\") as f:\n",
    "    for i in f:\n",
    "        t = i.replace('<user>', '')\n",
    "        t1 = t.replace('<url>', '')\n",
    "        data_neg.append(t1)"
   ]
  },
  {
   "cell_type": "code",
   "execution_count": 3,
   "metadata": {},
   "outputs": [],
   "source": [
    "data_pos_ls = [tweet.split(\" \") for tweet in data_pos]\n",
    "data_neg_ls = [tweet.split(\" \") for tweet in data_neg]\n",
    "pd_tweet_pos = pd.Series(data_pos_ls)\n",
    "pd_tweet_neg = pd.Series(data_neg_ls)"
   ]
  },
  {
   "cell_type": "code",
   "execution_count": 52,
   "metadata": {},
   "outputs": [
    {
     "name": "stdout",
     "output_type": "stream",
     "text": [
      "(100000,)\n",
      "(100000,)\n"
     ]
    }
   ],
   "source": [
    "print(pd_tweet_pos.shape)\n",
    "print(pd_tweet_neg.shape)"
   ]
  },
  {
   "cell_type": "markdown",
   "metadata": {},
   "source": [
    "dataset is already tokenized so that step is not needed\n",
    "next step would be lemmatizer"
   ]
  },
  {
   "cell_type": "code",
   "execution_count": 12,
   "metadata": {},
   "outputs": [
    {
     "name": "stderr",
     "output_type": "stream",
     "text": [
      "[nltk_data] Downloading package wordnet to\n",
      "[nltk_data]     /Users/abhinavkumar/nltk_data...\n",
      "[nltk_data]   Package wordnet is already up-to-date!\n",
      "[nltk_data] Downloading package averaged_perceptron_tagger to\n",
      "[nltk_data]     /Users/abhinavkumar/nltk_data...\n",
      "[nltk_data]   Package averaged_perceptron_tagger is already up-to-\n",
      "[nltk_data]       date!\n",
      "[nltk_data] Downloading package stopwords to\n",
      "[nltk_data]     /Users/abhinavkumar/nltk_data...\n",
      "[nltk_data]   Package stopwords is already up-to-date!\n",
      "[nltk_data] Downloading package omw-1.4 to\n",
      "[nltk_data]     /Users/abhinavkumar/nltk_data...\n",
      "[nltk_data]   Unzipping corpora/omw-1.4.zip.\n"
     ]
    },
    {
     "data": {
      "text/plain": [
       "True"
      ]
     },
     "execution_count": 12,
     "metadata": {},
     "output_type": "execute_result"
    }
   ],
   "source": [
    "nltk.download('wordnet')\n",
    "nltk.download('averaged_perceptron_tagger')\n",
    "nltk.download('stopwords')\n",
    "nltk.download('omw-1.4')"
   ]
  },
  {
   "cell_type": "code",
   "execution_count": 53,
   "metadata": {},
   "outputs": [],
   "source": [
    "from nltk.tag import pos_tag\n",
    "from nltk.stem.wordnet import WordNetLemmatizer\n",
    "\n",
    "def lemmatize_sentence(tokens):\n",
    "    lemmatizer = WordNetLemmatizer()\n",
    "    lemmatized_sentence = []\n",
    "    for word, tag in pos_tag(tokens):\n",
    "        if tag.startswith('NN'):\n",
    "            pos = 'n'\n",
    "        elif tag.startswith('VB'):\n",
    "            pos = 'v'\n",
    "        else:\n",
    "            pos = 'a'\n",
    "        lemmatized_sentence.append(lemmatizer.lemmatize(word, pos))\n",
    "    return lemmatized_sentence"
   ]
  },
  {
   "cell_type": "code",
   "execution_count": 54,
   "metadata": {},
   "outputs": [
    {
     "data": {
      "text/plain": [
       "[('this', 'DT'),\n",
       " ('is', 'VBZ'),\n",
       " ('were', 'VBD'),\n",
       " ('i', 'JJ'),\n",
       " ('belong\\n', 'NN')]"
      ]
     },
     "execution_count": 54,
     "metadata": {},
     "output_type": "execute_result"
    }
   ],
   "source": [
    "pos_tag(pd_tweet_pos[9])"
   ]
  },
  {
   "cell_type": "code",
   "execution_count": 16,
   "metadata": {},
   "outputs": [],
   "source": [
    "tmp = lemmatize_sentence(pd_tweet_pos[9])"
   ]
  },
  {
   "cell_type": "code",
   "execution_count": 55,
   "metadata": {},
   "outputs": [
    {
     "name": "stdout",
     "output_type": "stream",
     "text": [
      "['this', 'be', 'be', 'i', 'belong\\n']\n",
      "['this', 'is', 'were', 'i', 'belong\\n']\n"
     ]
    }
   ],
   "source": [
    "print(tmp)\n",
    "print(pd_tweet_pos[9])"
   ]
  },
  {
   "cell_type": "markdown",
   "metadata": {},
   "source": [
    "remove noise from the dataset\n",
    "\n",
    "remove hyperlinks, punctuation and special characters"
   ]
  },
  {
   "cell_type": "code",
   "execution_count": 57,
   "metadata": {},
   "outputs": [],
   "source": [
    "import re, string\n",
    "\n",
    "personlised_remove_reg_tokens = [\"\\n\", \"...\"]\n",
    "personlised_remove_tokens = [\"rt\"]\n",
    "\n",
    "def remove_noise(tweet_tokens, stop_words = ()):\n",
    "\n",
    "    cleaned_tokens = []\n",
    "\n",
    "    for token, tag in pos_tag(tweet_tokens):\n",
    "        token = re.sub('http[s]?://(?:[a-zA-Z]|[0-9]|[$-_@.&+#]|[!*\\(\\),]|'\\\n",
    "                       '(?:%[0-9a-fA-F][0-9a-fA-F]))+','', token)\n",
    "        token = re.sub(\"(@[A-Za-z0-9_]+)\",\"\", token)\n",
    "        \n",
    "\n",
    "        \"\"\"\n",
    "        need to look into this\n",
    "        \"\"\"\n",
    "        \n",
    "        # for rm_token in personlised_remove_tokens:\n",
    "        #     token = re.sub(rm_token,\"\", token)\n",
    "\n",
    "        # for rm_token in personlised_remove_reg_tokens:\n",
    "        #      pat = r'(\\w*%s\\w*)' % rm_token\n",
    "        #      token = re.sub(pat,\"\", token)\n",
    "\n",
    "        if tag.startswith(\"NN\"):\n",
    "            pos = 'n'\n",
    "        elif tag.startswith('VB'):\n",
    "            pos = 'v'\n",
    "        else:\n",
    "            pos = 'a'\n",
    "\n",
    "        lemmatizer = WordNetLemmatizer()\n",
    "        token = lemmatizer.lemmatize(token, pos)\n",
    "\n",
    "        if len(token) > 0 and token not in string.punctuation and token.lower() not in stop_words:\n",
    "            cleaned_tokens.append(token.lower())\n",
    "    return cleaned_tokens"
   ]
  },
  {
   "cell_type": "code",
   "execution_count": 58,
   "metadata": {},
   "outputs": [],
   "source": [
    "from nltk.corpus import stopwords\n",
    "stop_words = stopwords.words('english')\n",
    "\n",
    "positive_cleaned_tokens_list = []\n",
    "negative_cleaned_tokens_list = []\n",
    "\n",
    "for tokens in pd_tweet_pos:\n",
    "    positive_cleaned_tokens_list.append(remove_noise(tokens, stop_words))\n",
    "\n",
    "for tokens in pd_tweet_neg:\n",
    "    negative_cleaned_tokens_list.append(remove_noise(tokens, stop_words))\n"
   ]
  },
  {
   "cell_type": "markdown",
   "metadata": {},
   "source": [
    "### determine word density\n",
    "\n",
    "for analysis purpose"
   ]
  },
  {
   "cell_type": "code",
   "execution_count": 33,
   "metadata": {},
   "outputs": [],
   "source": [
    "def get_all_words(cleaned_tokens_list):\n",
    "    for tokens in cleaned_tokens_list:\n",
    "        for token in tokens:\n",
    "            yield token"
   ]
  },
  {
   "cell_type": "code",
   "execution_count": 34,
   "metadata": {},
   "outputs": [],
   "source": [
    "all_pos_words = get_all_words(positive_cleaned_tokens_list)"
   ]
  },
  {
   "cell_type": "code",
   "execution_count": 35,
   "metadata": {},
   "outputs": [
    {
     "name": "stdout",
     "output_type": "stream",
     "text": [
      "[('!\\n', 11330), ('\\n', 10552), ('love', 9139), ('get', 8568), ('rt', 7263), ('.\\n', 7166), ('follow', 7142), (\"i'm\", 6990), ('good', 6814), ('...', 6696)]\n"
     ]
    }
   ],
   "source": [
    "from nltk import FreqDist\n",
    "\n",
    "freq_dist_pos = FreqDist(all_pos_words)\n",
    "print(freq_dist_pos.most_common(10))"
   ]
  },
  {
   "cell_type": "markdown",
   "metadata": {},
   "source": [
    "### Naive Bayes Classifiers NLTK"
   ]
  },
  {
   "cell_type": "code",
   "execution_count": 59,
   "metadata": {},
   "outputs": [],
   "source": [
    "def get_tweets_for_model(cleaned_tokens_list):\n",
    "    for tweet_tokens in cleaned_tokens_list:\n",
    "        yield dict([token, True] for token in tweet_tokens)"
   ]
  },
  {
   "cell_type": "code",
   "execution_count": 60,
   "metadata": {},
   "outputs": [],
   "source": [
    "positive_tokens_for_model = get_tweets_for_model(positive_cleaned_tokens_list)\n",
    "negative_tokens_for_model = get_tweets_for_model(negative_cleaned_tokens_list)"
   ]
  },
  {
   "cell_type": "code",
   "execution_count": 61,
   "metadata": {},
   "outputs": [
    {
     "name": "stdout",
     "output_type": "stream",
     "text": [
      "200000\n"
     ]
    }
   ],
   "source": [
    "import random\n",
    "\n",
    "positive_dataset = [(tweet_dict, \"Positive\") for tweet_dict in positive_tokens_for_model]\n",
    "\n",
    "negative_dataset = [(tweet_dict, \"Negative\") for tweet_dict in negative_tokens_for_model]\n",
    "\n",
    "dataset = positive_dataset + negative_dataset\n",
    "print(len(dataset))\n",
    "\n",
    "random.shuffle(dataset)\n",
    "\n",
    "train_data = dataset[:150000]\n",
    "test_data = dataset[150000:]"
   ]
  },
  {
   "cell_type": "code",
   "execution_count": 62,
   "metadata": {},
   "outputs": [
    {
     "name": "stdout",
     "output_type": "stream",
     "text": [
      "150000\n",
      "50000\n"
     ]
    }
   ],
   "source": [
    "print(len(train_data))\n",
    "print(len(test_data))"
   ]
  },
  {
   "cell_type": "code",
   "execution_count": 63,
   "metadata": {},
   "outputs": [
    {
     "name": "stdout",
     "output_type": "stream",
     "text": [
      "Accuracy is: 0.75432\n"
     ]
    }
   ],
   "source": [
    "from nltk import classify\n",
    "from nltk import NaiveBayesClassifier\n",
    "classifier = NaiveBayesClassifier.train(train_data)\n",
    "\n",
    "print(\"Accuracy is:\", classify.accuracy(classifier, test_data))"
   ]
  },
  {
   "cell_type": "code",
   "execution_count": 64,
   "metadata": {},
   "outputs": [
    {
     "name": "stdout",
     "output_type": "stream",
     "text": [
      "Most Informative Features\n",
      "               paperback = True           Negati : Positi =    747.1 : 1.0\n",
      "                  custom = True           Negati : Positi =    326.0 : 1.0\n",
      "             replacement = True           Negati : Positi =    283.0 : 1.0\n",
      "                      (8 = True           Negati : Positi =    263.6 : 1.0\n",
      "             manufacture = True           Negati : Positi =    242.9 : 1.0\n",
      "                   ounce = True           Negati : Positi =    236.8 : 1.0\n",
      "                   frame = True           Negati : Positi =    148.4 : 1.0\n",
      "                    misc = True           Negati : Positi =    143.3 : 1.0\n",
      "                   cable = True           Negati : Positi =    138.5 : 1.0\n",
      "                  walnut = True           Negati : Positi =    135.3 : 1.0\n",
      "    #yougetmajorpointsif = True           Positi : Negati =    131.4 : 1.0\n",
      "               stainless = True           Negati : Positi =    114.6 : 1.0\n",
      "                 apparel = True           Negati : Positi =    109.3 : 1.0\n",
      "                     ram = True           Negati : Positi =    103.0 : 1.0\n",
      "                     1gb = True           Negati : Positi =     87.9 : 1.0\n",
      "                   audio = True           Negati : Positi =     87.6 : 1.0\n",
      "                   steel = True           Negati : Positi =     84.9 : 1.0\n",
      "                 adapter = True           Negati : Positi =     81.2 : 1.0\n",
      "                   toner = True           Negati : Positi =     77.2 : 1.0\n",
      "                 edition = True           Negati : Positi =     76.1 : 1.0\n",
      "None\n"
     ]
    }
   ],
   "source": [
    "print(classifier.show_most_informative_features(20))"
   ]
  }
 ],
 "metadata": {
  "interpreter": {
   "hash": "27793e922fab33fd2cfd6a6744f5b47e0c7b0be2caae6a1a51b69aac0ce4aeec"
  },
  "kernelspec": {
   "display_name": "Python 3.9.7 ('.ds')",
   "language": "python",
   "name": "python3"
  },
  "language_info": {
   "codemirror_mode": {
    "name": "ipython",
    "version": 3
   },
   "file_extension": ".py",
   "mimetype": "text/x-python",
   "name": "python",
   "nbconvert_exporter": "python",
   "pygments_lexer": "ipython3",
   "version": "3.9.7"
  },
  "orig_nbformat": 4
 },
 "nbformat": 4,
 "nbformat_minor": 2
}
