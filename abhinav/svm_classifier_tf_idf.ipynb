{
 "cells": [
  {
   "cell_type": "code",
   "execution_count": 1,
   "metadata": {},
   "outputs": [],
   "source": [
    "import pandas as pd\n",
    "import numpy as np\n",
    "import nltk\n",
    "import re"
   ]
  },
  {
   "cell_type": "markdown",
   "metadata": {},
   "source": []
  },
  {
   "cell_type": "code",
   "execution_count": 2,
   "metadata": {},
   "outputs": [],
   "source": [
    "data_pos = []\n",
    "data_neg = []\n",
    "with open(\"./../train_pos.txt\") as f:\n",
    "    for i in f: \n",
    "        t = i.replace('<user>', '')\n",
    "        t1 = t.replace('<url>', '')\n",
    "        data_pos.append(t1)\n",
    "\n",
    "with open(\"./../train_neg.txt\") as f:\n",
    "    for i in f:\n",
    "        t = i.replace('<user>', '')\n",
    "        t1 = t.replace('<url>', '')\n",
    "        data_neg.append(t1)"
   ]
  },
  {
   "cell_type": "code",
   "execution_count": 3,
   "metadata": {},
   "outputs": [],
   "source": [
    "data_pos_ls = [tweet.split(\" \") for tweet in data_pos]\n",
    "data_neg_ls = [tweet.split(\" \") for tweet in data_neg]\n",
    "pd_tweet_pos = pd.Series(data_pos_ls)\n",
    "pd_tweet_neg = pd.Series(data_neg_ls)"
   ]
  },
  {
   "cell_type": "code",
   "execution_count": 8,
   "metadata": {},
   "outputs": [],
   "source": [
    "import re, string\n",
    "from nltk.tag import pos_tag\n",
    "from nltk.stem.wordnet import WordNetLemmatizer\n",
    "\n",
    "personlised_remove_reg_tokens = [\"\\n\", \"...\"]\n",
    "personlised_remove_tokens = [\"rt\"]\n",
    "\n",
    "def remove_noise(tweet_tokens, stop_words = ()):\n",
    "\n",
    "    cleaned_tokens = []\n",
    "\n",
    "    for token, tag in pos_tag(tweet_tokens):\n",
    "        token = re.sub('http[s]?://(?:[a-zA-Z]|[0-9]|[$-_@.&+#]|[!*\\(\\),]|'\\\n",
    "                       '(?:%[0-9a-fA-F][0-9a-fA-F]))+','', token)\n",
    "        token = re.sub(\"(@[A-Za-z0-9_]+)\",\"\", token)\n",
    "        \n",
    "\n",
    "        \"\"\"\n",
    "        need to look into this\n",
    "        \"\"\"\n",
    "        \n",
    "        # for rm_token in personlised_remove_tokens:\n",
    "        #     token = re.sub(rm_token,\"\", token)\n",
    "\n",
    "        # for rm_token in personlised_remove_reg_tokens:\n",
    "        #      pat = r'(\\w*%s\\w*)' % rm_token\n",
    "        #      token = re.sub(pat,\"\", token)\n",
    "\n",
    "        if tag.startswith(\"NN\"):\n",
    "            pos = 'n'\n",
    "        elif tag.startswith('VB'):\n",
    "            pos = 'v'\n",
    "        else:\n",
    "            pos = 'a'\n",
    "\n",
    "        lemmatizer = WordNetLemmatizer()\n",
    "        token = lemmatizer.lemmatize(token, pos)\n",
    "\n",
    "        if len(token) > 0 and token not in string.punctuation and token.lower() not in stop_words:\n",
    "            cleaned_tokens.append(token.lower())\n",
    "    return cleaned_tokens"
   ]
  },
  {
   "cell_type": "code",
   "execution_count": 9,
   "metadata": {},
   "outputs": [],
   "source": [
    "from nltk.corpus import stopwords\n",
    "stop_words = stopwords.words('english')\n",
    "\n",
    "positive_cleaned_tokens_list = []\n",
    "negative_cleaned_tokens_list = []\n",
    "\n",
    "for tokens in pd_tweet_pos:\n",
    "    positive_cleaned_tokens_list.append(remove_noise(tokens, stop_words))\n",
    "\n",
    "for tokens in pd_tweet_neg:\n",
    "    negative_cleaned_tokens_list.append(remove_noise(tokens, stop_words))"
   ]
  },
  {
   "cell_type": "code",
   "execution_count": 10,
   "metadata": {},
   "outputs": [],
   "source": [
    "pos_data_labels = ['pos'] * len(positive_cleaned_tokens_list)\n",
    "neg_data_labels = ['neg'] * len(negative_cleaned_tokens_list)\n",
    "data = positive_cleaned_tokens_list + negative_cleaned_tokens_list\n",
    "data_labels = pos_data_labels + neg_data_labels"
   ]
  },
  {
   "cell_type": "code",
   "execution_count": 11,
   "metadata": {},
   "outputs": [
    {
     "name": "stdout",
     "output_type": "stream",
     "text": [
      "(200000,)\n"
     ]
    },
    {
     "name": "stderr",
     "output_type": "stream",
     "text": [
      "/var/folders/rv/89dfs8q53tx_7htbblgttb100000gn/T/ipykernel_60192/1476114094.py:2: VisibleDeprecationWarning: Creating an ndarray from ragged nested sequences (which is a list-or-tuple of lists-or-tuples-or ndarrays with different lengths or shapes) is deprecated. If you meant to do this, you must specify 'dtype=object' when creating the ndarray.\n",
      "  np_data = np.array(data)\n"
     ]
    }
   ],
   "source": [
    "N = len(data)\n",
    "np_data = np.array(data)\n",
    "print(np_data.shape)\n",
    "np_data_labels = np.array(data_labels)\n",
    "np.random.seed(20)\n",
    "shuffler = np.random.permutation(N)\n",
    "Ntrain = 150000"
   ]
  },
  {
   "cell_type": "code",
   "execution_count": 14,
   "metadata": {},
   "outputs": [],
   "source": [
    "X_train = np_data[shuffler[:Ntrain]]\n",
    "y_train = np_data_labels[shuffler[:Ntrain]]\n",
    "X_test = np_data[shuffler[Ntrain:]]\n",
    "y_test = np_data_labels[shuffler[Ntrain:]]"
   ]
  },
  {
   "cell_type": "code",
   "execution_count": 35,
   "metadata": {},
   "outputs": [],
   "source": [
    "def custom_join(x):\n",
    "    ss = \"\"\n",
    "    for idx,s in enumerate(x):\n",
    "        if idx == len(x)-1:\n",
    "            ss += s\n",
    "        else:\n",
    "            ss += (s + \" \")\n",
    "    return ss"
   ]
  },
  {
   "cell_type": "code",
   "execution_count": null,
   "metadata": {},
   "outputs": [],
   "source": [
    "tst = X_train[:10]\n",
    "print(tst)\n",
    "tst = pd.Series(tst)\n",
    "tst1 = tst.apply(custom_join)\n",
    "print(tst1)"
   ]
  },
  {
   "cell_type": "code",
   "execution_count": 43,
   "metadata": {},
   "outputs": [],
   "source": [
    "X_train = pd.Series(X_train).apply(custom_join)\n",
    "X_test = pd.Series(X_test).apply(custom_join)"
   ]
  },
  {
   "cell_type": "code",
   "execution_count": 45,
   "metadata": {},
   "outputs": [],
   "source": [
    "from sklearn.feature_extraction.text import TfidfVectorizer\n",
    "vectorizer= TfidfVectorizer(lowercase=False)\n",
    "tf_x_train = vectorizer.fit_transform(X_train)\n",
    "tf_x_test = vectorizer.transform(X_test)"
   ]
  },
  {
   "cell_type": "code",
   "execution_count": 46,
   "metadata": {},
   "outputs": [],
   "source": [
    "from sklearn.svm import LinearSVC\n",
    "clf = LinearSVC(random_state=0)"
   ]
  },
  {
   "cell_type": "code",
   "execution_count": 47,
   "metadata": {},
   "outputs": [
    {
     "data": {
      "text/plain": [
       "LinearSVC(random_state=0)"
      ]
     },
     "execution_count": 47,
     "metadata": {},
     "output_type": "execute_result"
    }
   ],
   "source": [
    "clf.fit(tf_x_train,y_train)"
   ]
  },
  {
   "cell_type": "code",
   "execution_count": 48,
   "metadata": {},
   "outputs": [],
   "source": [
    "y_test_pred = clf.predict(tf_x_test)"
   ]
  },
  {
   "cell_type": "code",
   "execution_count": 49,
   "metadata": {},
   "outputs": [],
   "source": [
    "from sklearn.metrics import classification_report\n",
    "\n",
    "report=classification_report(y_test, y_test_pred,output_dict=True)"
   ]
  },
  {
   "cell_type": "code",
   "execution_count": 50,
   "metadata": {},
   "outputs": [
    {
     "name": "stdout",
     "output_type": "stream",
     "text": [
      "{'neg': {'precision': 0.7985080812266888, 'recall': 0.7726051565820602, 'f1-score': 0.7853430883042246, 'support': 24939}, 'pos': {'precision': 0.7807885581754929, 'recall': 0.8059933761621643, 'f1-score': 0.7931907875360781, 'support': 25061}, 'accuracy': 0.78934, 'macro avg': {'precision': 0.7896483197010908, 'recall': 0.7892992663721122, 'f1-score': 0.7892669379201513, 'support': 50000}, 'weighted avg': {'precision': 0.7896267018829685, 'recall': 0.78934, 'f1-score': 0.7892765121132143, 'support': 50000}}\n"
     ]
    }
   ],
   "source": [
    "print(report)"
   ]
  },
  {
   "cell_type": "code",
   "execution_count": 51,
   "metadata": {},
   "outputs": [],
   "source": [
    "from sklearn.linear_model import LogisticRegression\n",
    "clf1 = LogisticRegression(max_iter=1000, solver=\"saga\")"
   ]
  },
  {
   "cell_type": "code",
   "execution_count": 52,
   "metadata": {},
   "outputs": [
    {
     "data": {
      "text/plain": [
       "LogisticRegression(max_iter=1000, solver='saga')"
      ]
     },
     "execution_count": 52,
     "metadata": {},
     "output_type": "execute_result"
    }
   ],
   "source": [
    "clf1.fit(tf_x_train,y_train)"
   ]
  },
  {
   "cell_type": "code",
   "execution_count": 53,
   "metadata": {},
   "outputs": [],
   "source": [
    "y_test_pred=clf1.predict(tf_x_test)"
   ]
  },
  {
   "cell_type": "code",
   "execution_count": 54,
   "metadata": {},
   "outputs": [
    {
     "name": "stdout",
     "output_type": "stream",
     "text": [
      "{'neg': {'precision': 0.8042244771174156, 'recall': 0.7786198323910342, 'f1-score': 0.7912150598973189, 'support': 24939}, 'pos': {'precision': 0.7864629665441888, 'recall': 0.8113802322333507, 'f1-score': 0.7987273155786, 'support': 25061}, 'accuracy': 0.79504, 'macro avg': {'precision': 0.7953437218308022, 'recall': 0.7950000323121924, 'f1-score': 0.7949711877379595, 'support': 50000}, 'weighted avg': {'precision': 0.7953220527879029, 'recall': 0.79504, 'f1-score': 0.7949803526898905, 'support': 50000}}\n"
     ]
    }
   ],
   "source": [
    "report1=classification_report(y_test, y_test_pred,output_dict=True)\n",
    "print(report1)"
   ]
  }
 ],
 "metadata": {
  "interpreter": {
   "hash": "27793e922fab33fd2cfd6a6744f5b47e0c7b0be2caae6a1a51b69aac0ce4aeec"
  },
  "kernelspec": {
   "display_name": "Python 3.9.7 ('.ds')",
   "language": "python",
   "name": "python3"
  },
  "language_info": {
   "codemirror_mode": {
    "name": "ipython",
    "version": 3
   },
   "file_extension": ".py",
   "mimetype": "text/x-python",
   "name": "python",
   "nbconvert_exporter": "python",
   "pygments_lexer": "ipython3",
   "version": "3.9.7"
  },
  "orig_nbformat": 4
 },
 "nbformat": 4,
 "nbformat_minor": 2
}
