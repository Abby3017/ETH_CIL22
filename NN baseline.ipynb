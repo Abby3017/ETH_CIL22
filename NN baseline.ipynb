{
 "cells": [
  {
   "cell_type": "code",
   "execution_count": 1,
   "id": "3dfe2e2b",
   "metadata": {},
   "outputs": [],
   "source": [
    "import pandas as pd\n",
    "from preprocess import preprocess_tweet\n",
    "import numpy as np\n",
    "import pandas as pd\n",
    "import seaborn as sns\n",
    "import matplotlib.pyplot as plt\n",
    "from keras.preprocessing.sequence import pad_sequences\n",
    "from keras.preprocessing.text import Tokenizer\n",
    "from string import punctuation, digits\n",
    "from sklearn.model_selection import KFold\n",
    "from sklearn.model_selection import cross_validate\n",
    "from sklearn.feature_extraction.text import (\n",
    "    CountVectorizer, TfidfVectorizer)\n",
    "from sklearn.preprocessing import StandardScaler\n",
    "from sklearn.feature_selection import (\n",
    "    SelectKBest, VarianceThreshold, f_classif)\n",
    "from sklearn.linear_model import LogisticRegression\n",
    "from sklearn.model_selection import train_test_split\n",
    "from sklearn.ensemble import RandomForestClassifier\n",
    "import tensorflow as tf\n",
    "from sklearn.pipeline import Pipeline\n",
    "from sklearn.model_selection import GridSearchCV\n",
    "from sklearn.metrics import confusion_matrix, classification_report, accuracy_score"
   ]
  },
  {
   "cell_type": "code",
   "execution_count": null,
   "id": "5ae1cb2d",
   "metadata": {},
   "outputs": [],
   "source": []
  },
  {
   "cell_type": "markdown",
   "id": "1375d7df",
   "metadata": {},
   "source": [
    "## Load data "
   ]
  },
  {
   "cell_type": "code",
   "execution_count": 2,
   "id": "d514eda6",
   "metadata": {},
   "outputs": [
    {
     "name": "stdout",
     "output_type": "stream",
     "text": [
      "read negative tweet lines  100000\n",
      "read positive tweet lines  100000\n",
      "200000\n",
      "200000\n"
     ]
    }
   ],
   "source": [
    "n_data = []\n",
    "p_data = []\n",
    "\n",
    "# read positive and negative tweet data\n",
    "# use own path here\n",
    "with open('/Users/louancillon/Documents/ETHZ/M2/CIL/ETH_CIL22/twitter-datasets/train_neg.txt', encoding='utf-8') as f:\n",
    "    lines = f.read().splitlines()\n",
    "    n_data = lines\n",
    "print('read negative tweet lines ', len(n_data))\n",
    "\n",
    "with open('/Users/louancillon/Documents/ETHZ/M2/CIL/ETH_CIL22/twitter-datasets/train_pos.txt', encoding='utf-8') as f:\n",
    "    lines = f.read().splitlines()\n",
    "    p_data = lines\n",
    "print('read positive tweet lines ', len(p_data))\n",
    "\n",
    "# fill all tweet data and target labels\n",
    "tweet_data = p_data + n_data\n",
    "tweet_labels = [1.0 for _ in p_data] + [0.0 for _ in n_data]\n",
    "print(len(tweet_data))\n",
    "print(len(tweet_labels))\n"
   ]
  },
  {
   "cell_type": "code",
   "execution_count": 3,
   "id": "4a8ed301",
   "metadata": {},
   "outputs": [],
   "source": [
    "df = pd.DataFrame({'review':tweet_data, 'sentiment':tweet_labels})\n",
    "original = df['review'].map(lambda x: x.split())\n",
    "df.insert(1, 'original',original)\n",
    "x_train, x_test,y_train, y_test = train_test_split(df['original'], df['sentiment'], test_size=0.1, random_state = 45)\n"
   ]
  },
  {
   "cell_type": "markdown",
   "id": "2b4da34b",
   "metadata": {},
   "source": [
    "## NN baseline "
   ]
  },
  {
   "cell_type": "code",
   "execution_count": 4,
   "id": "e4ce8653",
   "metadata": {},
   "outputs": [],
   "source": [
    "# Set Maximum number of words to be embedded\n",
    "NUM_WORDS = 25000\n",
    "\n",
    "# Define/Load Tokenize text function\n",
    "tokenizer = Tokenizer(num_words=NUM_WORDS,lower=True)\n",
    "\n",
    "# Fit the function on the text\n",
    "tokenizer.fit_on_texts(x_train)\n",
    "\n",
    "# Count number of unique tokens\n",
    "word_index = tokenizer.word_index\n",
    "\n",
    "# Convert train and val to sequence\n",
    "sequences_train = tokenizer.texts_to_sequences(x_train)\n",
    "# Limit size of train/val to 50 and pad the sequence\n",
    "x_train = pad_sequences(sequences_train,maxlen=50)"
   ]
  },
  {
   "cell_type": "code",
   "execution_count": 16,
   "id": "955b1263",
   "metadata": {},
   "outputs": [],
   "source": [
    "model = tf.keras.Sequential([\n",
    "    tf.keras.layers.Embedding(\n",
    "        input_dim=NUM_WORDS,\n",
    "        output_dim=64,\n",
    "        # Use masking to handle the variable sequence lengths\n",
    "        mask_zero=True),\n",
    "    tf.keras.layers.Bidirectional(tf.keras.layers.LSTM(64)),\n",
    "    tf.keras.layers.Dense(64, activation='relu'),\n",
    "    tf.keras.layers.Dense(1)\n",
    "])"
   ]
  },
  {
   "cell_type": "code",
   "execution_count": 17,
   "id": "2a90dd88",
   "metadata": {},
   "outputs": [],
   "source": [
    "# Compile the Model\n",
    "model.compile(loss='binary_crossentropy', optimizer='adam', \n",
    "          metrics=['acc'])\n"
   ]
  },
  {
   "cell_type": "code",
   "execution_count": 18,
   "id": "0dac2721",
   "metadata": {},
   "outputs": [
    {
     "name": "stdout",
     "output_type": "stream",
     "text": [
      "Epoch 1/5\n",
      "7200/7200 [==============================] - 209s 28ms/step - loss: 0.4488 - acc: 0.8022\n",
      "Epoch 2/5\n",
      "7200/7200 [==============================] - 229s 32ms/step - loss: 0.3883 - acc: 0.8399\n",
      "Epoch 3/5\n",
      "7200/7200 [==============================] - 244s 34ms/step - loss: 0.3848 - acc: 0.8469\n",
      "Epoch 4/5\n",
      "7200/7200 [==============================] - 245s 34ms/step - loss: 0.3783 - acc: 0.8522\n",
      "Epoch 5/5\n",
      "7200/7200 [==============================] - 250s 35ms/step - loss: 0.3556 - acc: 0.8686\n"
     ]
    },
    {
     "data": {
      "text/plain": [
       "<keras.callbacks.History at 0x1a604dac8>"
      ]
     },
     "execution_count": 18,
     "metadata": {},
     "output_type": "execute_result"
    }
   ],
   "source": [
    "# Train the Model\n",
    "model.fit(x_train, y_train, epochs=5, batch_size=25, verbose = 1)"
   ]
  },
  {
   "cell_type": "code",
   "execution_count": 14,
   "id": "10f34642",
   "metadata": {},
   "outputs": [],
   "source": [
    "# Convert train and val to sequence\n",
    "sequences_test = tokenizer.texts_to_sequences(x_test)\n",
    "# Limit size of train/val to 50 and pad the sequence\n",
    "X_test = pad_sequences(sequences_test,maxlen=50)\n"
   ]
  },
  {
   "cell_type": "code",
   "execution_count": 19,
   "id": "6fc010dc",
   "metadata": {},
   "outputs": [
    {
     "name": "stdout",
     "output_type": "stream",
     "text": [
      "Test Accuracy: 82.870001\n"
     ]
    }
   ],
   "source": [
    "# evaluate\n",
    "loss, acc = model.evaluate(X_test, y_test, verbose=0)\n",
    "print('Test Accuracy: %f' % (acc*100))"
   ]
  },
  {
   "cell_type": "code",
   "execution_count": 13,
   "id": "d534845c",
   "metadata": {},
   "outputs": [
    {
     "ename": "TypeError",
     "evalue": "<lambda>() missing 1 required positional argument: 'label'",
     "output_type": "error",
     "traceback": [
      "\u001b[0;31m---------------------------------------------------------------------------\u001b[0m",
      "\u001b[0;31mTypeError\u001b[0m                                 Traceback (most recent call last)",
      "\u001b[0;32m<ipython-input-13-6ea0eb04289f>\u001b[0m in \u001b[0;36m<module>\u001b[0;34m\u001b[0m\n\u001b[1;32m      9\u001b[0m \u001b[0;34m\u001b[0m\u001b[0m\n\u001b[1;32m     10\u001b[0m     \u001b[0mencoder\u001b[0m \u001b[0;34m=\u001b[0m \u001b[0mtf\u001b[0m\u001b[0;34m.\u001b[0m\u001b[0mkeras\u001b[0m\u001b[0;34m.\u001b[0m\u001b[0mlayers\u001b[0m\u001b[0;34m.\u001b[0m\u001b[0mTextVectorization\u001b[0m\u001b[0;34m(\u001b[0m\u001b[0mmax_tokens\u001b[0m\u001b[0;34m=\u001b[0m\u001b[0mVOCAB_SIZE\u001b[0m\u001b[0;34m)\u001b[0m\u001b[0;34m\u001b[0m\u001b[0;34m\u001b[0m\u001b[0m\n\u001b[0;32m---> 11\u001b[0;31m     \u001b[0mencoder\u001b[0m\u001b[0;34m.\u001b[0m\u001b[0madapt\u001b[0m\u001b[0;34m(\u001b[0m\u001b[0mX\u001b[0m\u001b[0;34m[\u001b[0m\u001b[0mtrain\u001b[0m\u001b[0;34m]\u001b[0m\u001b[0;34m.\u001b[0m\u001b[0mmap\u001b[0m\u001b[0;34m(\u001b[0m\u001b[0;32mlambda\u001b[0m \u001b[0mtext\u001b[0m\u001b[0;34m,\u001b[0m \u001b[0mlabel\u001b[0m\u001b[0;34m:\u001b[0m \u001b[0mtext\u001b[0m\u001b[0;34m)\u001b[0m\u001b[0;34m)\u001b[0m\u001b[0;34m\u001b[0m\u001b[0;34m\u001b[0m\u001b[0m\n\u001b[0m\u001b[1;32m     12\u001b[0m \u001b[0;34m\u001b[0m\u001b[0m\n\u001b[1;32m     13\u001b[0m \u001b[0;34m\u001b[0m\u001b[0m\n",
      "\u001b[0;32m/Library/Frameworks/Python.framework/Versions/3.6/lib/python3.6/site-packages/pandas/core/series.py\u001b[0m in \u001b[0;36mmap\u001b[0;34m(self, arg, na_action)\u001b[0m\n\u001b[1;32m   3981\u001b[0m         \u001b[0mdtype\u001b[0m\u001b[0;34m:\u001b[0m \u001b[0mobject\u001b[0m\u001b[0;34m\u001b[0m\u001b[0;34m\u001b[0m\u001b[0m\n\u001b[1;32m   3982\u001b[0m         \"\"\"\n\u001b[0;32m-> 3983\u001b[0;31m         \u001b[0mnew_values\u001b[0m \u001b[0;34m=\u001b[0m \u001b[0msuper\u001b[0m\u001b[0;34m(\u001b[0m\u001b[0;34m)\u001b[0m\u001b[0;34m.\u001b[0m\u001b[0m_map_values\u001b[0m\u001b[0;34m(\u001b[0m\u001b[0marg\u001b[0m\u001b[0;34m,\u001b[0m \u001b[0mna_action\u001b[0m\u001b[0;34m=\u001b[0m\u001b[0mna_action\u001b[0m\u001b[0;34m)\u001b[0m\u001b[0;34m\u001b[0m\u001b[0;34m\u001b[0m\u001b[0m\n\u001b[0m\u001b[1;32m   3984\u001b[0m         return self._constructor(new_values, index=self.index).__finalize__(\n\u001b[1;32m   3985\u001b[0m             \u001b[0mself\u001b[0m\u001b[0;34m,\u001b[0m \u001b[0mmethod\u001b[0m\u001b[0;34m=\u001b[0m\u001b[0;34m\"map\"\u001b[0m\u001b[0;34m\u001b[0m\u001b[0;34m\u001b[0m\u001b[0m\n",
      "\u001b[0;32m/Library/Frameworks/Python.framework/Versions/3.6/lib/python3.6/site-packages/pandas/core/base.py\u001b[0m in \u001b[0;36m_map_values\u001b[0;34m(self, mapper, na_action)\u001b[0m\n\u001b[1;32m   1158\u001b[0m \u001b[0;34m\u001b[0m\u001b[0m\n\u001b[1;32m   1159\u001b[0m         \u001b[0;31m# mapper is a function\u001b[0m\u001b[0;34m\u001b[0m\u001b[0;34m\u001b[0m\u001b[0;34m\u001b[0m\u001b[0m\n\u001b[0;32m-> 1160\u001b[0;31m         \u001b[0mnew_values\u001b[0m \u001b[0;34m=\u001b[0m \u001b[0mmap_f\u001b[0m\u001b[0;34m(\u001b[0m\u001b[0mvalues\u001b[0m\u001b[0;34m,\u001b[0m \u001b[0mmapper\u001b[0m\u001b[0;34m)\u001b[0m\u001b[0;34m\u001b[0m\u001b[0;34m\u001b[0m\u001b[0m\n\u001b[0m\u001b[1;32m   1161\u001b[0m \u001b[0;34m\u001b[0m\u001b[0m\n\u001b[1;32m   1162\u001b[0m         \u001b[0;32mreturn\u001b[0m \u001b[0mnew_values\u001b[0m\u001b[0;34m\u001b[0m\u001b[0;34m\u001b[0m\u001b[0m\n",
      "\u001b[0;32mpandas/_libs/lib.pyx\u001b[0m in \u001b[0;36mpandas._libs.lib.map_infer\u001b[0;34m()\u001b[0m\n",
      "\u001b[0;31mTypeError\u001b[0m: <lambda>() missing 1 required positional argument: 'label'"
     ]
    }
   ],
   "source": [
    "kfold = KFold(n_splits=10)\n",
    "scores = np.zeros(10)\n",
    "idx = 0\n",
    "VOCAB_SIZE = 25000\n",
    "X = df['original']\n",
    "Y = df['sentiment']\n",
    "\n",
    "for train, test in kfold.split(X, Y):\n",
    "\n",
    "    encoder = tf.keras.layers.TextVectorization(max_tokens=VOCAB_SIZE)\n",
    "    encoder.adapt(X[train].map(lambda text, label: text))\n",
    "\n",
    "\n",
    "    # Define a Deep Learning Model\n",
    "    model = tf.keras.Sequential([\n",
    "        encoder,\n",
    "        tf.keras.layers.Embedding(\n",
    "            input_dim=len(encoder.get_vocabulary()),\n",
    "            output_dim=64,\n",
    "            # Use masking to handle the variable sequence lengths\n",
    "            mask_zero=True),\n",
    "        tf.keras.layers.Bidirectional(tf.keras.layers.LSTM(64)),\n",
    "        tf.keras.layers.Dense(64, activation='relu'),\n",
    "        tf.keras.layers.Dense(1)\n",
    "    ])\n",
    "\n",
    "    # Compile the Model\n",
    "    model.compile(loss='binary_crossentropy', optimizer='adam', \n",
    "              metrics=['acc'])\n",
    "\n",
    "    # Train the Model\n",
    "    model.fit(X[train], y[train], epochs=50, batch_size=25, verbose = 0,\n",
    "              validation_data=(X[test], y[test]))\n",
    "\n",
    "    # evaluate the model\n",
    "    scores[idx] = train_evaluate(model, X[train], Y[train], X[test], Y[test])\n",
    "    print(scores[idx])\n",
    "    idx += 1\n",
    "    \n"
   ]
  },
  {
   "cell_type": "code",
   "execution_count": null,
   "id": "053d3a64",
   "metadata": {},
   "outputs": [],
   "source": [
    "def train_eval(x, y, model):\n",
    "    # Create a pipeline\n",
    "    baseline = Pipeline([\n",
    "      (\"tf-idf\", TfidfVectorizer(lowercase=False, tokenizer=lambda i:i)),\n",
    "       #TfidfVectorizer(lowercase=False)),\n",
    "      (\"clf\", model)\n",
    "    ])\n",
    "    \n",
    "    cv_results = cross_validate(baseline, x_train, y_train, cv=10)\n",
    "    \n",
    "    return cv_results\n",
    "    "
   ]
  },
  {
   "cell_type": "code",
   "execution_count": null,
   "id": "29902a94",
   "metadata": {},
   "outputs": [],
   "source": [
    "cv_results = cross_validate(baseline, x_train, y_train, cv=10)"
   ]
  },
  {
   "cell_type": "code",
   "execution_count": null,
   "id": "bc1c0a25",
   "metadata": {},
   "outputs": [],
   "source": [
    "cv_results"
   ]
  }
 ],
 "metadata": {
  "kernelspec": {
   "display_name": "Python 3",
   "language": "python",
   "name": "python3"
  },
  "language_info": {
   "codemirror_mode": {
    "name": "ipython",
    "version": 3
   },
   "file_extension": ".py",
   "mimetype": "text/x-python",
   "name": "python",
   "nbconvert_exporter": "python",
   "pygments_lexer": "ipython3",
   "version": "3.6.8"
  }
 },
 "nbformat": 4,
 "nbformat_minor": 5
}
